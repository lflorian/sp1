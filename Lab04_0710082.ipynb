{
  "nbformat": 4,
  "nbformat_minor": 0,
  "metadata": {
    "colab": {
      "name": "Lab04-0710082.ipynb",
      "provenance": [],
      "toc_visible": true,
      "authorship_tag": "ABX9TyMJuX0crJQrKTnXsV0sYFU2",
      "include_colab_link": true
    },
    "kernelspec": {
      "name": "python3",
      "display_name": "Python 3"
    }
  },
  "cells": [
    {
      "cell_type": "markdown",
      "metadata": {
        "id": "view-in-github",
        "colab_type": "text"
      },
      "source": [
        "<a href=\"https://colab.research.google.com/github/lflorian/sp1/blob/master/Lab04_0710082.ipynb\" target=\"_parent\"><img src=\"https://colab.research.google.com/assets/colab-badge.svg\" alt=\"Open In Colab\"/></a>"
      ]
    },
    {
      "cell_type": "code",
      "metadata": {
        "id": "OUYkPj4OJiKk",
        "colab_type": "code",
        "colab": {}
      },
      "source": [
        ""
      ],
      "execution_count": 0,
      "outputs": []
    },
    {
      "cell_type": "markdown",
      "metadata": {
        "id": "n4mPN5gqJuDS",
        "colab_type": "text"
      },
      "source": [
        "## **Universidad Galileo**\n",
        "##Luis Florian - Sección AN - Laboratorio No.4"
      ]
    },
    {
      "cell_type": "markdown",
      "metadata": {
        "id": "X_ElWsjvJ0Zw",
        "colab_type": "text"
      },
      "source": [
        "## **Imports**\n"
      ]
    },
    {
      "cell_type": "code",
      "metadata": {
        "id": "-ASY3Yu-J35V",
        "colab_type": "code",
        "colab": {}
      },
      "source": [
        "%tensorflow_version 2.x\n",
        "\n",
        "import tensorflow as tf\n",
        "import tensorflow_hub as hub\n",
        "\n",
        "#Trabajando Conv2D debido a que se trabaja una dimension abajo.\n",
        "from tensorflow.keras.models import Sequential\n",
        "from tensorflow.keras.layers import Dense, Flatten, Dropout, Conv2D, MaxPooling2D\n",
        "from tensorflow.keras.preprocessing.image import ImageDataGenerator\n",
        "\n",
        "import os\n",
        "#os and shutil for files and directories manage \n",
        "import os\n",
        "import shutil\n",
        "import numpy as np\n",
        "import PIL.Image as Image\n",
        "import matplotlib.pylab as plt\n",
        "\n",
        "seed=1234\n",
        "np.random.seed(seed)\n",
        "tf.random.set_seed(seed)"
      ],
      "execution_count": 0,
      "outputs": []
    },
    {
      "cell_type": "markdown",
      "metadata": {
        "id": "iYtBl9k2KpXV",
        "colab_type": "text"
      },
      "source": [
        "# **Images**"
      ]
    },
    {
      "cell_type": "code",
      "metadata": {
        "id": "dalShxjVKrYu",
        "colab_type": "code",
        "colab": {
          "base_uri": "https://localhost:8080/",
          "height": 122
        },
        "outputId": "96beaeb0-22d9-4d3b-fb61-6c98267802f0"
      },
      "source": [
        "from google.colab import drive\n",
        "drive.mount('/content/drive')"
      ],
      "execution_count": 2,
      "outputs": [
        {
          "output_type": "stream",
          "text": [
            "Go to this URL in a browser: https://accounts.google.com/o/oauth2/auth?client_id=947318989803-6bn6qk8qdgf4n4g3pfee6491hc0brc4i.apps.googleusercontent.com&redirect_uri=urn%3aietf%3awg%3aoauth%3a2.0%3aoob&response_type=code&scope=email%20https%3a%2f%2fwww.googleapis.com%2fauth%2fdocs.test%20https%3a%2f%2fwww.googleapis.com%2fauth%2fdrive%20https%3a%2f%2fwww.googleapis.com%2fauth%2fdrive.photos.readonly%20https%3a%2f%2fwww.googleapis.com%2fauth%2fpeopleapi.readonly\n",
            "\n",
            "Enter your authorization code:\n",
            "··········\n",
            "Mounted at /content/drive\n"
          ],
          "name": "stdout"
        }
      ]
    },
    {
      "cell_type": "code",
      "metadata": {
        "id": "lhMQ-daoK_JW",
        "colab_type": "code",
        "colab": {}
      },
      "source": [
        "class_names = ['carro','bicicleta']\n",
        "path = 'dataset/'\n",
        "\n",
        "train_dir = os.path.join(path, 'train')\n",
        "validation_dir = os.path.join(path, 'validation')\n",
        "\n",
        "train_ca_dir = os.path.join(train_dir, 'carro')  \n",
        "train_im_dir = os.path.join(train_dir, 'bicicleta')  \n",
        "validation_ca_dir = os.path.join(validation_dir, 'carro') \n",
        "validation_im_dir = os.path.join(validation_dir, 'bicicleta')  \n",
        "\n",
        "if os.path.exists(path):\n",
        "  shutil.rmtree(path)\n",
        "\n",
        "os.makedirs(train_ca_dir)\n",
        "os.makedirs(train_im_dir)\n",
        "os.makedirs(validation_ca_dir)    \n",
        "os.makedirs(validation_im_dir)\n",
        "IMAGE_SIZE = (224, 224)"
      ],
      "execution_count": 0,
      "outputs": []
    },
    {
      "cell_type": "code",
      "metadata": {
        "id": "t5Z8I0pvL9nY",
        "colab_type": "code",
        "colab": {}
      },
      "source": [
        "def manage_images(src, dest_train, dest_val, image_resize=IMAGE_SIZE, val_split=0.1, prefix=''):\n",
        "  total = len(os.listdir(src))\n",
        "  val = np.int(total*val_split)\n",
        "  count = 0\n",
        "  files = os.listdir(src)\n",
        "\n",
        "  for file_name in files:\n",
        "    try:\n",
        "      dest = dest_train if count >= val else dest_val\n",
        "      dest_file = os.path.join(dest, prefix + file_name) \n",
        "\n",
        "      img = Image.open(os.path.join(src,file_name))\n",
        "      img.verify()\n",
        "      # reopen because verify() was called\n",
        "      # If you need to load the image after using this method, you must reopen the image file.\n",
        "      # https://pillow.readthedocs.io/en/3.1.x/reference/Image.html\n",
        "      img = Image.open(os.path.join(src,file_name))\n",
        "      #resize\n",
        "      img = img.resize(image_resize, Image.ANTIALIAS)\n",
        "      #move\n",
        "      img.save(dest_file)  \n",
        "      count+=1 \n",
        "    except Exception as e:\n",
        "        print('Invalid image: ',file_name,e)\n",
        "        if os.path.exists(dest_file):\n",
        "          os.remove(dest_file)\n",
        "  return\n"
      ],
      "execution_count": 0,
      "outputs": []
    }
  ]
}