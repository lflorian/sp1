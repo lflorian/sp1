{
  "nbformat": 4,
  "nbformat_minor": 0,
  "metadata": {
    "colab": {
      "name": "Lab04-0710082.ipynb",
      "provenance": [],
      "collapsed_sections": [],
      "toc_visible": true,
      "authorship_tag": "ABX9TyPOjY2d6hNhqqrjrQ8V00iG",
      "include_colab_link": true
    },
    "kernelspec": {
      "name": "python3",
      "display_name": "Python 3"
    }
  },
  "cells": [
    {
      "cell_type": "markdown",
      "metadata": {
        "id": "view-in-github",
        "colab_type": "text"
      },
      "source": [
        "<a href=\"https://colab.research.google.com/github/lflorian/sp1/blob/master/Lab04_0710082.ipynb\" target=\"_parent\"><img src=\"https://colab.research.google.com/assets/colab-badge.svg\" alt=\"Open In Colab\"/></a>"
      ]
    },
    {
      "cell_type": "code",
      "metadata": {
        "id": "OUYkPj4OJiKk",
        "colab_type": "code",
        "colab": {}
      },
      "source": [
        ""
      ],
      "execution_count": 0,
      "outputs": []
    },
    {
      "cell_type": "markdown",
      "metadata": {
        "id": "n4mPN5gqJuDS",
        "colab_type": "text"
      },
      "source": [
        "## **Universidad Galileo**\n",
        "##Luis Florian - Sección AN - Laboratorio No.4"
      ]
    },
    {
      "cell_type": "markdown",
      "metadata": {
        "id": "X_ElWsjvJ0Zw",
        "colab_type": "text"
      },
      "source": [
        "## **Imports**\n"
      ]
    },
    {
      "cell_type": "code",
      "metadata": {
        "id": "-ASY3Yu-J35V",
        "colab_type": "code",
        "colab": {}
      },
      "source": [
        "%tensorflow_version 2.x\n",
        "\n",
        "import tensorflow as tf\n",
        "import tensorflow_hub as hub\n",
        "\n",
        "#Trabajando Conv2D debido a que se trabaja una dimension abajo.\n",
        "from tensorflow.keras.models import Sequential\n",
        "from tensorflow.keras.layers import Dense, Flatten, Dropout, Conv2D, MaxPooling2D\n",
        "from tensorflow.keras.preprocessing.image import ImageDataGenerator\n",
        "\n",
        "import os\n",
        "#os and shutil for files and directories manage \n",
        "import os\n",
        "import shutil\n",
        "import numpy as np\n",
        "import PIL.Image as Image\n",
        "import matplotlib.pylab as plt\n",
        "\n",
        "seed=1234\n",
        "np.random.seed(seed)\n",
        "tf.random.set_seed(seed)"
      ],
      "execution_count": 0,
      "outputs": []
    },
    {
      "cell_type": "code",
      "metadata": {
        "id": "6zHgLJFFNrCP",
        "colab_type": "code",
        "colab": {
          "base_uri": "https://localhost:8080/",
          "height": 428
        },
        "outputId": "b318aa4d-167d-4376-d0b8-d512a3441ccd"
      },
      "source": [
        "## Download images from google\n",
        "!pip install googleimagedownloader\n",
        "from googleimagedownloader.googleimagedownloader import GoogleImageDownloader"
      ],
      "execution_count": 16,
      "outputs": [
        {
          "output_type": "stream",
          "text": [
            "Collecting googleimagedownloader\n",
            "  Downloading https://files.pythonhosted.org/packages/2d/c3/01f4eccd7f3b9835362f8df633480b49c1c6fdef3fb962c0d66cabd8ee9f/googleimagedownloader-4.0.0-py3-none-any.whl\n",
            "Requirement already satisfied: bs4 in /usr/local/lib/python3.6/dist-packages (from googleimagedownloader) (0.0.1)\n",
            "Requirement already satisfied: pandas in /usr/local/lib/python3.6/dist-packages (from googleimagedownloader) (0.25.3)\n",
            "Requirement already satisfied: requests in /tensorflow-2.1.0/python3.6 (from googleimagedownloader) (2.22.0)\n",
            "Collecting requests-futures\n",
            "  Downloading https://files.pythonhosted.org/packages/47/c4/fd48d1ac5110a5457c71ac7cc4caa93da10a80b8de71112430e439bdee22/requests-futures-1.0.0.tar.gz\n",
            "Requirement already satisfied: beautifulsoup4 in /usr/local/lib/python3.6/dist-packages (from bs4->googleimagedownloader) (4.6.3)\n",
            "Requirement already satisfied: python-dateutil>=2.6.1 in /usr/local/lib/python3.6/dist-packages (from pandas->googleimagedownloader) (2.6.1)\n",
            "Requirement already satisfied: numpy>=1.13.3 in /tensorflow-2.1.0/python3.6 (from pandas->googleimagedownloader) (1.18.1)\n",
            "Requirement already satisfied: pytz>=2017.2 in /usr/local/lib/python3.6/dist-packages (from pandas->googleimagedownloader) (2018.9)\n",
            "Requirement already satisfied: idna<2.9,>=2.5 in /tensorflow-2.1.0/python3.6 (from requests->googleimagedownloader) (2.8)\n",
            "Requirement already satisfied: certifi>=2017.4.17 in /tensorflow-2.1.0/python3.6 (from requests->googleimagedownloader) (2019.11.28)\n",
            "Requirement already satisfied: urllib3!=1.25.0,!=1.25.1,<1.26,>=1.21.1 in /tensorflow-2.1.0/python3.6 (from requests->googleimagedownloader) (1.25.8)\n",
            "Requirement already satisfied: chardet<3.1.0,>=3.0.2 in /tensorflow-2.1.0/python3.6 (from requests->googleimagedownloader) (3.0.4)\n",
            "Requirement already satisfied: six>=1.5 in /tensorflow-2.1.0/python3.6 (from python-dateutil>=2.6.1->pandas->googleimagedownloader) (1.14.0)\n",
            "Building wheels for collected packages: requests-futures\n",
            "  Building wheel for requests-futures (setup.py) ... \u001b[?25l\u001b[?25hdone\n",
            "  Created wheel for requests-futures: filename=requests_futures-1.0.0-cp36-none-any.whl size=7013 sha256=90344b237ca6eebe50c9dfff0d6b634ae937c84902ef5fb01d0922e84d962f09\n",
            "  Stored in directory: /root/.cache/pip/wheels/26/d0/f5/dc4e4a37bbe55c9acf967d2bd899152412c1e49c227f5395ff\n",
            "Successfully built requests-futures\n",
            "Installing collected packages: requests-futures, googleimagedownloader\n",
            "Successfully installed googleimagedownloader-4.0.0 requests-futures-1.0.0\n"
          ],
          "name": "stdout"
        }
      ]
    },
    {
      "cell_type": "markdown",
      "metadata": {
        "id": "iYtBl9k2KpXV",
        "colab_type": "text"
      },
      "source": [
        "# **Images**"
      ]
    },
    {
      "cell_type": "code",
      "metadata": {
        "id": "dalShxjVKrYu",
        "colab_type": "code",
        "colab": {
          "base_uri": "https://localhost:8080/",
          "height": 122
        },
        "outputId": "96beaeb0-22d9-4d3b-fb61-6c98267802f0"
      },
      "source": [
        "from google.colab import drive\n",
        "drive.mount('/content/drive')"
      ],
      "execution_count": 2,
      "outputs": [
        {
          "output_type": "stream",
          "text": [
            "Go to this URL in a browser: https://accounts.google.com/o/oauth2/auth?client_id=947318989803-6bn6qk8qdgf4n4g3pfee6491hc0brc4i.apps.googleusercontent.com&redirect_uri=urn%3aietf%3awg%3aoauth%3a2.0%3aoob&response_type=code&scope=email%20https%3a%2f%2fwww.googleapis.com%2fauth%2fdocs.test%20https%3a%2f%2fwww.googleapis.com%2fauth%2fdrive%20https%3a%2f%2fwww.googleapis.com%2fauth%2fdrive.photos.readonly%20https%3a%2f%2fwww.googleapis.com%2fauth%2fpeopleapi.readonly\n",
            "\n",
            "Enter your authorization code:\n",
            "··········\n",
            "Mounted at /content/drive\n"
          ],
          "name": "stdout"
        }
      ]
    },
    {
      "cell_type": "code",
      "metadata": {
        "id": "lhMQ-daoK_JW",
        "colab_type": "code",
        "colab": {}
      },
      "source": [
        "class_names = ['carro','bicicleta']\n",
        "path = 'dataset/'\n",
        "\n",
        "train_dir = os.path.join(path, 'train')\n",
        "validation_dir = os.path.join(path, 'validation')\n",
        "\n",
        "train_ca_dir = os.path.join(train_dir, 'carro')  \n",
        "train_im_dir = os.path.join(train_dir, 'bicicleta')  \n",
        "validation_ca_dir = os.path.join(validation_dir, 'carro') \n",
        "validation_im_dir = os.path.join(validation_dir, 'bicicleta')  \n",
        "\n",
        "if os.path.exists(path):\n",
        "  shutil.rmtree(path)\n",
        "\n",
        "os.makedirs(train_ca_dir)\n",
        "os.makedirs(train_im_dir)\n",
        "os.makedirs(validation_ca_dir)    \n",
        "os.makedirs(validation_im_dir)\n",
        "IMAGE_SIZE = (224, 224)"
      ],
      "execution_count": 0,
      "outputs": []
    },
    {
      "cell_type": "code",
      "metadata": {
        "id": "t5Z8I0pvL9nY",
        "colab_type": "code",
        "colab": {}
      },
      "source": [
        "def manage_images(src, dest_train, dest_val, image_resize=IMAGE_SIZE, val_split=0.1, prefix=''):\n",
        "  total = len(os.listdir(src))\n",
        "  val = np.int(total*val_split)\n",
        "  count = 0\n",
        "  files = os.listdir(src)\n",
        "\n",
        "  for file_name in files:\n",
        "    try:\n",
        "      dest = dest_train if count >= val else dest_val\n",
        "      dest_file = os.path.join(dest, prefix + file_name) \n",
        "\n",
        "      img = Image.open(os.path.join(src,file_name))\n",
        "      img.verify()\n",
        "      # reopen because verify() was called\n",
        "      # If you need to load the image after using this method, you must reopen the image file.\n",
        "      # https://pillow.readthedocs.io/en/3.1.x/reference/Image.html\n",
        "      img = Image.open(os.path.join(src,file_name))\n",
        "      #resize\n",
        "      img = img.resize(image_resize, Image.ANTIALIAS)\n",
        "      #move\n",
        "      img.save(dest_file)  \n",
        "      count+=1 \n",
        "    except Exception as e:\n",
        "        print('Invalid image: ',file_name,e)\n",
        "        if os.path.exists(dest_file):\n",
        "          os.remove(dest_file)\n",
        "  return\n"
      ],
      "execution_count": 0,
      "outputs": []
    },
    {
      "cell_type": "code",
      "metadata": {
        "id": "0FBN3oQaM94w",
        "colab_type": "code",
        "colab": {}
      },
      "source": [
        "img_dir = os.path.realpath('Images/')"
      ],
      "execution_count": 0,
      "outputs": []
    },
    {
      "cell_type": "markdown",
      "metadata": {
        "id": "iau_3Hv2NG1m",
        "colab_type": "text"
      },
      "source": [
        "## **Carro**\n"
      ]
    },
    {
      "cell_type": "code",
      "metadata": {
        "id": "g_dGjpUkNLr5",
        "colab_type": "code",
        "colab": {
          "base_uri": "https://localhost:8080/",
          "height": 387
        },
        "outputId": "d886988d-bc0c-4930-9034-d0bd9b77a29b"
      },
      "source": [
        "queries = ['carro','car']\n",
        "pos = 0\n",
        "for query in queries:\n",
        "  image = GoogleImageDownloader(Query='carro '+query, numberImage=100)\n",
        "  try:\n",
        "    image.downloadImages()\n",
        "  except Exception as e:\n",
        "    print('Error ',e)\n",
        "  #verify, resize, move and split sets\n",
        "  manage_images(img_dir, train_ca_dir, validation_ca_dir,prefix=str(pos)+'-')\n",
        "  pos+=1"
      ],
      "execution_count": 17,
      "outputs": [
        {
          "output_type": "stream",
          "text": [
            "https://www.google.co.in/search?q=carro carro&source=lnms&tbm=isch\n",
            "Total Time : 0:00:00.000407\n"
          ],
          "name": "stdout"
        },
        {
          "output_type": "error",
          "ename": "FileNotFoundError",
          "evalue": "ignored",
          "traceback": [
            "\u001b[0;31m---------------------------------------------------------------------------\u001b[0m",
            "\u001b[0;31mFileNotFoundError\u001b[0m                         Traceback (most recent call last)",
            "\u001b[0;32m<ipython-input-17-0410c41e1486>\u001b[0m in \u001b[0;36m<module>\u001b[0;34m()\u001b[0m\n\u001b[1;32m      8\u001b[0m     \u001b[0mprint\u001b[0m\u001b[0;34m(\u001b[0m\u001b[0;34m'Error '\u001b[0m\u001b[0;34m,\u001b[0m\u001b[0me\u001b[0m\u001b[0;34m)\u001b[0m\u001b[0;34m\u001b[0m\u001b[0;34m\u001b[0m\u001b[0m\n\u001b[1;32m      9\u001b[0m   \u001b[0;31m#verify, resize, move and split sets\u001b[0m\u001b[0;34m\u001b[0m\u001b[0;34m\u001b[0m\u001b[0;34m\u001b[0m\u001b[0m\n\u001b[0;32m---> 10\u001b[0;31m   \u001b[0mmanage_images\u001b[0m\u001b[0;34m(\u001b[0m\u001b[0mimg_dir\u001b[0m\u001b[0;34m,\u001b[0m \u001b[0mtrain_ca_dir\u001b[0m\u001b[0;34m,\u001b[0m \u001b[0mvalidation_ca_dir\u001b[0m\u001b[0;34m,\u001b[0m\u001b[0mprefix\u001b[0m\u001b[0;34m=\u001b[0m\u001b[0mstr\u001b[0m\u001b[0;34m(\u001b[0m\u001b[0mpos\u001b[0m\u001b[0;34m)\u001b[0m\u001b[0;34m+\u001b[0m\u001b[0;34m'-'\u001b[0m\u001b[0;34m)\u001b[0m\u001b[0;34m\u001b[0m\u001b[0;34m\u001b[0m\u001b[0m\n\u001b[0m\u001b[1;32m     11\u001b[0m   \u001b[0mpos\u001b[0m\u001b[0;34m+=\u001b[0m\u001b[0;36m1\u001b[0m\u001b[0;34m\u001b[0m\u001b[0;34m\u001b[0m\u001b[0m\n",
            "\u001b[0;32m<ipython-input-11-14cc5b072fd1>\u001b[0m in \u001b[0;36mmanage_images\u001b[0;34m(src, dest_train, dest_val, image_resize, val_split, prefix)\u001b[0m\n\u001b[1;32m      1\u001b[0m \u001b[0;32mdef\u001b[0m \u001b[0mmanage_images\u001b[0m\u001b[0;34m(\u001b[0m\u001b[0msrc\u001b[0m\u001b[0;34m,\u001b[0m \u001b[0mdest_train\u001b[0m\u001b[0;34m,\u001b[0m \u001b[0mdest_val\u001b[0m\u001b[0;34m,\u001b[0m \u001b[0mimage_resize\u001b[0m\u001b[0;34m=\u001b[0m\u001b[0mIMAGE_SIZE\u001b[0m\u001b[0;34m,\u001b[0m \u001b[0mval_split\u001b[0m\u001b[0;34m=\u001b[0m\u001b[0;36m0.1\u001b[0m\u001b[0;34m,\u001b[0m \u001b[0mprefix\u001b[0m\u001b[0;34m=\u001b[0m\u001b[0;34m''\u001b[0m\u001b[0;34m)\u001b[0m\u001b[0;34m:\u001b[0m\u001b[0;34m\u001b[0m\u001b[0;34m\u001b[0m\u001b[0m\n\u001b[0;32m----> 2\u001b[0;31m   \u001b[0mtotal\u001b[0m \u001b[0;34m=\u001b[0m \u001b[0mlen\u001b[0m\u001b[0;34m(\u001b[0m\u001b[0mos\u001b[0m\u001b[0;34m.\u001b[0m\u001b[0mlistdir\u001b[0m\u001b[0;34m(\u001b[0m\u001b[0msrc\u001b[0m\u001b[0;34m)\u001b[0m\u001b[0;34m)\u001b[0m\u001b[0;34m\u001b[0m\u001b[0;34m\u001b[0m\u001b[0m\n\u001b[0m\u001b[1;32m      3\u001b[0m   \u001b[0mval\u001b[0m \u001b[0;34m=\u001b[0m \u001b[0mnp\u001b[0m\u001b[0;34m.\u001b[0m\u001b[0mint\u001b[0m\u001b[0;34m(\u001b[0m\u001b[0mtotal\u001b[0m\u001b[0;34m*\u001b[0m\u001b[0mval_split\u001b[0m\u001b[0;34m)\u001b[0m\u001b[0;34m\u001b[0m\u001b[0;34m\u001b[0m\u001b[0m\n\u001b[1;32m      4\u001b[0m   \u001b[0mcount\u001b[0m \u001b[0;34m=\u001b[0m \u001b[0;36m0\u001b[0m\u001b[0;34m\u001b[0m\u001b[0;34m\u001b[0m\u001b[0m\n\u001b[1;32m      5\u001b[0m   \u001b[0mfiles\u001b[0m \u001b[0;34m=\u001b[0m \u001b[0mos\u001b[0m\u001b[0;34m.\u001b[0m\u001b[0mlistdir\u001b[0m\u001b[0;34m(\u001b[0m\u001b[0msrc\u001b[0m\u001b[0;34m)\u001b[0m\u001b[0;34m\u001b[0m\u001b[0;34m\u001b[0m\u001b[0m\n",
            "\u001b[0;31mFileNotFoundError\u001b[0m: [Errno 2] No such file or directory: '/content/Images'"
          ]
        }
      ]
    }
  ]
}